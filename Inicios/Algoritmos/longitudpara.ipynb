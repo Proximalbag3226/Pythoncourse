{
 "cells": [
  {
   "cell_type": "markdown",
   "id": "fbce186c",
   "metadata": {},
   "source": [
    "Vamos a realizar un programa que resuleva calculos de longitud parametrica, para ello vamos a utilizar la formula que ya conocemos:\n",
    "Seria la integral de la raiz de la suma de las derivadas con respecto a x,y,z (dependiendo de las dimensiones de nuestra curva) elevadas al cuadrado"
   ]
  },
  {
   "cell_type": "code",
   "execution_count": null,
   "id": "8b28ea9e",
   "metadata": {},
   "outputs": [],
   "source": [
    "#Importamos las librerias nesesarias\n",
    "from sympy import Symbol, integrate, sympify, sqrt"
   ]
  },
  {
   "cell_type": "code",
   "execution_count": null,
   "id": "e36e91c7",
   "metadata": {
    "lines_to_next_cell": 1
   },
   "outputs": [],
   "source": [
    "#Colocamos la parametrizacion de forma simbolica\n",
    "t = Symbol(\"t\")"
   ]
  },
  {
   "cell_type": "code",
   "execution_count": null,
   "id": "1ff7078b",
   "metadata": {
    "lines_to_next_cell": 1
   },
   "outputs": [],
   "source": [
    "#Construimos nuestra funcion que nos va a permitir derivar \n",
    "def derivadas(*funciones):\n",
    "    return tuple(f.diff(t) for f in funciones)"
   ]
  },
  {
   "cell_type": "code",
   "execution_count": null,
   "id": "d03863de",
   "metadata": {
    "lines_to_next_cell": 1
   },
   "outputs": [],
   "source": [
    "#Y otra funcion que nos va a permitir integrar los muchos diferenciales de longitud de la curva\n",
    "def integral(a, b, *derivadas):\n",
    "    suma_cuadrados = sum(d**2 for d in derivadas)\n",
    "    res = integrate(sqrt(suma_cuadrados), (t, a, b))\n",
    "    return res.evalf()"
   ]
  },
  {
   "cell_type": "code",
   "execution_count": null,
   "id": "4edcc388",
   "metadata": {},
   "outputs": [],
   "source": [
    "#El menu principal\n",
    "while True:\n",
    "    print(\"\\nBienvenido a la calculadora de longitud de arco\")\n",
    "    variables = input(\"¿Su función tiene 2 o 3 dimensiones? (2/3): \").strip()\n",
    "    \n",
    "    if variables == \"2\":\n",
    "        entrada_x = input(\"Ingresa tu función x(t): \")\n",
    "        entrada_y = input(\"Ingresa tu función y(t): \")\n",
    "        \n",
    "        fx = sympify(entrada_x)\n",
    "        fy = sympify(entrada_y)\n",
    "        \n",
    "        a = float(input(\"Ingresa el límite de integración inferior: \"))\n",
    "        b = float(input(\"Ingresa el límite de integración superior: \"))\n",
    "        if a>b:\n",
    "            print(\"Ingrese limites de integracion validos e intente de nuevo. \")\n",
    "            break\n",
    "        elif a == b:\n",
    "            print(\"Los limites de integracion deben de ser diferentes, intente de nuevo. \")\n",
    "            break\n",
    "        \n",
    "        dx, dy = derivadas(fx, fy)\n",
    "        longitud = integral(a, b, dx, dy)\n",
    "        \n",
    "        print(f\"La longitud paramétrica es de: {longitud}\")\n",
    "        \n",
    "    elif variables == \"3\":\n",
    "        entrada_x = input(\"Ingresa tu función x(t): \")\n",
    "        entrada_y = input(\"Ingresa tu función y(t): \")\n",
    "        entrada_z = input(\"Ingresa tu función z(t): \")\n",
    "        \n",
    "        fx = sympify(entrada_x)\n",
    "        fy = sympify(entrada_y)\n",
    "        fz = sympify(entrada_z)\n",
    "        \n",
    "        a = float(input(\"Ingresa el límite de integración inferior: \"))\n",
    "        b = float(input(\"Ingresa el límite de integración superior: \"))\n",
    "        \n",
    "        dx, dy, dz = derivadas(fx, fy, fz)\n",
    "        longitud = integral(a, b, dx, dy, dz)\n",
    "        \n",
    "        print(f\"La longitud paramétrica es de: {longitud}\")\n",
    "        \n",
    "    else:\n",
    "        print(\"Selecciona una opción correcta (2 o 3).\")\n",
    "        continue\n",
    "\n",
    "    continuar = input(\"¿Desea continuar? (s/n): \").strip().lower()\n",
    "    if continuar != \"s\":\n",
    "        print(\"Tenga un buen día.\")\n",
    "        break"
   ]
  }
 ],
 "metadata": {
  "jupytext": {
   "cell_metadata_filter": "-all",
   "main_language": "python",
   "notebook_metadata_filter": "-all"
  }
 },
 "nbformat": 4,
 "nbformat_minor": 5
}
